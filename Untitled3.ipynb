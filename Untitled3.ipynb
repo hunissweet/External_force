{
 "cells": [
  {
   "cell_type": "code",
   "execution_count": 4,
   "id": "cbf29d69",
   "metadata": {
    "scrolled": true
   },
   "outputs": [],
   "source": [
    "# System imports\n",
    "from time import sleep\n",
    "from pathlib import Path\n",
    "from collections.abc import Iterable   # import directly from collections for Python < 3.3\n",
    "import os as os\n",
    "\n",
    "# ROS imports\n",
    "from sensor_msgs.msg import JointState\n",
    "from ur_msgs.msg import IOStates\n",
    "from std_msgs.msg import Int16MultiArray, Float64, Float32MultiArray\n",
    "\n",
    "from rosbags.typesys import get_types_from_msg, register_types\n",
    "\n",
    "# Project imports\n",
    "from ros_data_handler import RosDataHandler, DataStream\n",
    "import numpy as np\n",
    "\n",
    "class JointStateData(DataStream):\n",
    "    def __init__(self, topic_name):\n",
    "        DataStream.__init__(self, topic_name)\n",
    "        self.msg_type = JointState\n",
    "\n",
    "    def map_msg(self, msg):\n",
    "        return msg.effort\n",
    "\n",
    "class IOStatesData(DataStream):\n",
    "    def __init__(self, topic_name):\n",
    "        DataStream.__init__(self, topic_name)\n",
    "        self.msg_type = IOStates\n",
    "\n",
    "    def map_msg(self, msg):\n",
    "        return [msg.analog_out_states[0].state,\n",
    "                msg.analog_out_states[1].state]\n",
    "\n",
    "class ArrayData(DataStream):\n",
    "    def __init__(self, topic_name, msg_type):\n",
    "        DataStream.__init__(self, topic_name)\n",
    "        self.msg_type = msg_type\n",
    "\n",
    "    def map_msg(self, msg):\n",
    "        data = msg.data\n",
    "        return data if isinstance(data, Iterable) else [data]\n",
    "\n",
    "def add_UR_msgs():\n",
    "#    msg_text = Path('/opt/ros/galactic/share/ur_msgs/msg/IOStates.msg').read_text()\n",
    "#    register_types(get_types_from_msg(msg_text, '/opt/ros/galactic/share/ur_msgs/msg/IOStates.msg'))\n",
    "    typs = {}\n",
    "    for root, dirnames, files in os.walk('/home/ipk410/ros2_ws/src/ur_msgs/'):\n",
    "        for fname in files:\n",
    "            path = Path(root, fname)\n",
    "            if path.suffix == '.msg':\n",
    "                name = path.relative_to(path.parents[2]).with_suffix('')\n",
    "                if '/msg/' not in str(name):\n",
    "                    name = name.parent / 'msg' / name.name\n",
    "                #print(name)\n",
    "                typs.update(get_types_from_msg(path.read_text(encoding='utf-8'), name))\n",
    "                #print(typs)\n",
    "        typs = dict(sorted(typs.items()))\n",
    "        register_types(typs)\n",
    "\n",
    "def Vector_set(path_list):\n",
    "    add_UR_msgs()\n",
    "\n",
    "    data_config = {'ext_force':JointStateData('/external_ft_sensor'),\n",
    "                   'pressure_command':IOStatesData('/io_and_status_controller/io_states'),\n",
    "                   'finger_sensors':ArrayData('/i2c_sensors', Float32MultiArray)}\n",
    "    data_handler = RosDataHandler(data_config)\n",
    "    data_handler.load_bags([Path(path_list)], sync_stream = 'ext_force')\n",
    "\n",
    "    dataset = data_handler.dataset.items()\n",
    "    \n",
    "\n",
    "    vectorset = data_handler.vectorset\n",
    "    return vectorset\n",
    "\n"
   ]
  },
  {
   "cell_type": "code",
   "execution_count": 6,
   "id": "30bb5d96",
   "metadata": {},
   "outputs": [
    {
     "name": "stdout",
     "output_type": "stream",
     "text": [
      "Building callback for ext_force\n",
      "Building callback for pressure_command\n",
      "Building callback for finger_sensors\n"
     ]
    }
   ],
   "source": [
    "a=Vector_set('test_26_05_23_v1')"
   ]
  },
  {
   "cell_type": "code",
   "execution_count": null,
   "id": "dcce843a",
   "metadata": {},
   "outputs": [],
   "source": []
  }
 ],
 "metadata": {
  "kernelspec": {
   "display_name": "Python 3 (ipykernel)",
   "language": "python",
   "name": "python3"
  },
  "language_info": {
   "codemirror_mode": {
    "name": "ipython",
    "version": 3
   },
   "file_extension": ".py",
   "mimetype": "text/x-python",
   "name": "python",
   "nbconvert_exporter": "python",
   "pygments_lexer": "ipython3",
   "version": "3.9.0"
  }
 },
 "nbformat": 4,
 "nbformat_minor": 5
}
