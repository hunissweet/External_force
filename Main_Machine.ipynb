{
 "cells": [
  {
   "cell_type": "markdown",
   "id": "1dee653e-51ff-4a76-b4f1-135e8d19a3eb",
   "metadata": {},
   "source": [
    "# 1. Library"
   ]
  },
  {
   "cell_type": "code",
   "execution_count": null,
   "id": "487de8de-791d-419a-97b7-3798e5a4a374",
   "metadata": {},
   "outputs": [],
   "source": [
    "# RoS related message\n",
    "from ros_data_reader import Vector_set"
   ]
  },
  {
   "cell_type": "code",
   "execution_count": 3,
   "id": "a2a2bd4a-ecdf-4a16-85c3-43a49ad14799",
   "metadata": {},
   "outputs": [
    {
     "ename": "ModuleNotFoundError",
     "evalue": "No module named 'sensor_msgs'",
     "output_type": "error",
     "traceback": [
      "\u001b[1;31m---------------------------------------------------------------------------\u001b[0m",
      "\u001b[1;31mModuleNotFoundError\u001b[0m                       Traceback (most recent call last)",
      "Cell \u001b[1;32mIn[3], line 12\u001b[0m\n\u001b[0;32m      9\u001b[0m \u001b[38;5;66;03m#from directory_tree import display_tree\u001b[39;00m\n\u001b[0;32m     10\u001b[0m \u001b[38;5;66;03m# Customed Library\u001b[39;00m\n\u001b[0;32m     11\u001b[0m \u001b[38;5;28;01mimport\u001b[39;00m \u001b[38;5;21;01mengine\u001b[39;00m \u001b[38;5;241m,\u001b[39m\u001b[38;5;21;01mmodel_builder\u001b[39;00m\u001b[38;5;241m,\u001b[39m\u001b[38;5;21;01mutils\u001b[39;00m\n\u001b[1;32m---> 12\u001b[0m \u001b[38;5;28;01mimport\u001b[39;00m \u001b[38;5;21;01mdata_loader\u001b[39;00m\n\u001b[0;32m     13\u001b[0m \u001b[38;5;28;01mimport\u001b[39;00m \u001b[38;5;21;01mnumpy\u001b[39;00m \u001b[38;5;28;01mas\u001b[39;00m \u001b[38;5;21;01mnp\u001b[39;00m\n\u001b[0;32m     14\u001b[0m \u001b[38;5;66;03m#import torchinfo\u001b[39;00m\n",
      "File \u001b[1;32m~\\Fraunhofer\\Machine_learning\\data_loader.py:10\u001b[0m\n\u001b[0;32m      8\u001b[0m \u001b[38;5;28;01mimport\u001b[39;00m \u001b[38;5;21;01mpickle\u001b[39;00m\n\u001b[0;32m      9\u001b[0m \u001b[38;5;28;01mfrom\u001b[39;00m \u001b[38;5;21;01mstatistics\u001b[39;00m \u001b[38;5;28;01mimport\u001b[39;00m mean\n\u001b[1;32m---> 10\u001b[0m \u001b[38;5;28;01mfrom\u001b[39;00m \u001b[38;5;21;01mros_data_reader\u001b[39;00m \u001b[38;5;28;01mimport\u001b[39;00m Vector_set\n\u001b[0;32m     11\u001b[0m \u001b[38;5;28;01mclass\u001b[39;00m \u001b[38;5;21;01mdata_loader\u001b[39;00m:\n\u001b[0;32m     12\u001b[0m \u001b[38;5;250m    \u001b[39m\u001b[38;5;124;03m'''\u001b[39;00m\n\u001b[0;32m     13\u001b[0m \u001b[38;5;124;03m    Mainly Go and look at the folder and file list\u001b[39;00m\n\u001b[0;32m     14\u001b[0m \n\u001b[0;32m     15\u001b[0m \u001b[38;5;124;03m    '''\u001b[39;00m\n",
      "File \u001b[1;32m~\\Fraunhofer\\Machine_learning\\ros_data_reader.py:8\u001b[0m\n\u001b[0;32m      5\u001b[0m \u001b[38;5;28;01mimport\u001b[39;00m \u001b[38;5;21;01mos\u001b[39;00m \u001b[38;5;28;01mas\u001b[39;00m \u001b[38;5;21;01mos\u001b[39;00m\n\u001b[0;32m      7\u001b[0m \u001b[38;5;66;03m# ROS imports\u001b[39;00m\n\u001b[1;32m----> 8\u001b[0m \u001b[38;5;28;01mfrom\u001b[39;00m \u001b[38;5;21;01msensor_msgs\u001b[39;00m\u001b[38;5;21;01m.\u001b[39;00m\u001b[38;5;21;01mmsg\u001b[39;00m \u001b[38;5;28;01mimport\u001b[39;00m JointState\n\u001b[0;32m      9\u001b[0m \u001b[38;5;28;01mfrom\u001b[39;00m \u001b[38;5;21;01mur_msgs\u001b[39;00m\u001b[38;5;21;01m.\u001b[39;00m\u001b[38;5;21;01mmsg\u001b[39;00m \u001b[38;5;28;01mimport\u001b[39;00m IOStates\n\u001b[0;32m     10\u001b[0m \u001b[38;5;28;01mfrom\u001b[39;00m \u001b[38;5;21;01mstd_msgs\u001b[39;00m\u001b[38;5;21;01m.\u001b[39;00m\u001b[38;5;21;01mmsg\u001b[39;00m \u001b[38;5;28;01mimport\u001b[39;00m Int16MultiArray, Float64, Float32MultiArray\n",
      "\u001b[1;31mModuleNotFoundError\u001b[0m: No module named 'sensor_msgs'"
     ]
    }
   ],
   "source": [
    "import os\n",
    "import torch\n",
    "\n",
    "import pandas as pd\n",
    "from torch.utils.data import DataLoader\n",
    "from sklearn.model_selection import train_test_split\n",
    "\n",
    "import sklearn.preprocessing\n",
    "#from directory_tree import display_tree\n",
    "# Customed Library\n",
    "import engine ,model_builder,utils\n",
    "import data_loader\n",
    "import numpy as np\n",
    "#import torchinfo\n",
    "from timeit import default_timer as timer \n",
    "\n",
    "#display_tree('./')"
   ]
  },
  {
   "cell_type": "markdown",
   "id": "d3b30fa8-0827-4d1f-b401-6e0d1b9388bb",
   "metadata": {
    "tags": []
   },
   "source": [
    "# 2. Data loading"
   ]
  },
  {
   "cell_type": "code",
   "execution_count": 2,
   "id": "ae69201c-74ee-4d26-87c1-5c4b880bd8eb",
   "metadata": {},
   "outputs": [
    {
     "ename": "NameError",
     "evalue": "name 'data_loader' is not defined",
     "output_type": "error",
     "traceback": [
      "\u001b[1;31m---------------------------------------------------------------------------\u001b[0m",
      "\u001b[1;31mNameError\u001b[0m                                 Traceback (most recent call last)",
      "Cell \u001b[1;32mIn[2], line 3\u001b[0m\n\u001b[0;32m      1\u001b[0m path\u001b[38;5;241m=\u001b[39m\u001b[38;5;124m'\u001b[39m\u001b[38;5;124m./rosbag_dir\u001b[39m\u001b[38;5;124m'\u001b[39m\n\u001b[0;32m      2\u001b[0m Desired_param\u001b[38;5;241m=\u001b[39m[[\u001b[38;5;241m0\u001b[39m],[\u001b[38;5;241m0\u001b[39m],[\u001b[38;5;241m0\u001b[39m],[\u001b[38;5;241m0\u001b[39m],[\u001b[38;5;241m0\u001b[39m,\u001b[38;5;241m1\u001b[39m,\u001b[38;5;241m2\u001b[39m]]\n\u001b[1;32m----> 3\u001b[0m A\u001b[38;5;241m=\u001b[39m\u001b[43mdata_loader\u001b[49m\u001b[38;5;241m.\u001b[39mdata_loader(path,Desired_param)\n\u001b[0;32m      4\u001b[0m A\u001b[38;5;241m.\u001b[39mfile_searching(path)\n\u001b[0;32m      5\u001b[0m list_file\u001b[38;5;241m=\u001b[39mA\u001b[38;5;241m.\u001b[39mdesired_file_path(Desired_param)\n",
      "\u001b[1;31mNameError\u001b[0m: name 'data_loader' is not defined"
     ]
    }
   ],
   "source": [
    "path='./rosbag_dir'\n",
    "Desired_param=[[0],[0],[0],[0],[0,1,2]]\n",
    "A=data_loader.data_loader(path,Desired_param)\n",
    "A.file_searching(path)\n",
    "list_file=A.desired_file_path(Desired_param)\n",
    "Columns=['Force_X','Force_Y','Force_Z','Torque_X','Torque_Y','Torque_Z',\n",
    "         'Sensor_P_1_1','Sensor_P_1_2','Sensor_P_2_1','Sensor_P_2_2',\n",
    "         'Sensor_P_3_1','Sensor_P_3_2','Sensor_P_4_1','Sensor_P_4_2',\n",
    "         'Sensor_P_5_1','Sensor_P_5_2','Sensor_P_6_1','Sensor_P_6_2',\n",
    "         'Sensor_P_7_1','Sensor_P_7_2',\n",
    "         'Sensor_S']\n",
    "New_Columns=['Par1','Par2','Par3','Par4','Par5']\n",
    "Total_dataset=A.read_Data_pandas(Columns,New_Columns)\n",
    "Total_dataset"
   ]
  },
  {
   "cell_type": "markdown",
   "id": "23aed4c3-0946-4b50-b6c8-1ecc96134c3c",
   "metadata": {},
   "source": [
    "### 3-1. FIltering"
   ]
  },
  {
   "cell_type": "code",
   "execution_count": 3,
   "id": "35eedcfc-fa2d-48b0-855a-842229e31c1e",
   "metadata": {},
   "outputs": [
    {
     "data": {
      "text/html": [
       "<div>\n",
       "<style scoped>\n",
       "    .dataframe tbody tr th:only-of-type {\n",
       "        vertical-align: middle;\n",
       "    }\n",
       "\n",
       "    .dataframe tbody tr th {\n",
       "        vertical-align: top;\n",
       "    }\n",
       "\n",
       "    .dataframe thead th {\n",
       "        text-align: right;\n",
       "    }\n",
       "</style>\n",
       "<table border=\"1\" class=\"dataframe\">\n",
       "  <thead>\n",
       "    <tr style=\"text-align: right;\">\n",
       "      <th></th>\n",
       "      <th>Force_X</th>\n",
       "      <th>Force_Y</th>\n",
       "      <th>Force_Z</th>\n",
       "      <th>Torque_X</th>\n",
       "      <th>Torque_Y</th>\n",
       "      <th>Torque_Z</th>\n",
       "      <th>Sensor_P_1_1</th>\n",
       "      <th>Sensor_P_1_2</th>\n",
       "      <th>Sensor_P_2_1</th>\n",
       "      <th>Sensor_P_2_2</th>\n",
       "      <th>...</th>\n",
       "      <th>Sensor_P_6_1</th>\n",
       "      <th>Sensor_P_6_2</th>\n",
       "      <th>Sensor_P_7_1</th>\n",
       "      <th>Sensor_P_7_2</th>\n",
       "      <th>Sensor_S</th>\n",
       "      <th>Par1</th>\n",
       "      <th>Par2</th>\n",
       "      <th>Par3</th>\n",
       "      <th>Par4</th>\n",
       "      <th>Par5</th>\n",
       "    </tr>\n",
       "  </thead>\n",
       "  <tbody>\n",
       "    <tr>\n",
       "      <th>17690</th>\n",
       "      <td>0.000827</td>\n",
       "      <td>0.003789</td>\n",
       "      <td>0.026325</td>\n",
       "      <td>0.000052</td>\n",
       "      <td>-0.000083</td>\n",
       "      <td>-0.000425</td>\n",
       "      <td>0.00</td>\n",
       "      <td>0.00</td>\n",
       "      <td>3.675</td>\n",
       "      <td>7.516</td>\n",
       "      <td>...</td>\n",
       "      <td>7.565</td>\n",
       "      <td>8.179</td>\n",
       "      <td>10.208</td>\n",
       "      <td>5.681</td>\n",
       "      <td>14.974</td>\n",
       "      <td>test</td>\n",
       "      <td>26</td>\n",
       "      <td>05</td>\n",
       "      <td>23</td>\n",
       "      <td>v1</td>\n",
       "    </tr>\n",
       "    <tr>\n",
       "      <th>17691</th>\n",
       "      <td>0.000827</td>\n",
       "      <td>0.003789</td>\n",
       "      <td>0.026325</td>\n",
       "      <td>0.000052</td>\n",
       "      <td>-0.000083</td>\n",
       "      <td>-0.000425</td>\n",
       "      <td>0.00</td>\n",
       "      <td>0.00</td>\n",
       "      <td>3.675</td>\n",
       "      <td>7.516</td>\n",
       "      <td>...</td>\n",
       "      <td>7.565</td>\n",
       "      <td>8.179</td>\n",
       "      <td>10.208</td>\n",
       "      <td>5.681</td>\n",
       "      <td>14.974</td>\n",
       "      <td>test</td>\n",
       "      <td>26</td>\n",
       "      <td>05</td>\n",
       "      <td>23</td>\n",
       "      <td>v1</td>\n",
       "    </tr>\n",
       "    <tr>\n",
       "      <th>17692</th>\n",
       "      <td>0.000827</td>\n",
       "      <td>0.003789</td>\n",
       "      <td>0.026325</td>\n",
       "      <td>0.000052</td>\n",
       "      <td>-0.000083</td>\n",
       "      <td>-0.000425</td>\n",
       "      <td>0.00</td>\n",
       "      <td>0.00</td>\n",
       "      <td>3.675</td>\n",
       "      <td>7.516</td>\n",
       "      <td>...</td>\n",
       "      <td>7.565</td>\n",
       "      <td>8.179</td>\n",
       "      <td>10.208</td>\n",
       "      <td>5.681</td>\n",
       "      <td>14.974</td>\n",
       "      <td>test</td>\n",
       "      <td>26</td>\n",
       "      <td>05</td>\n",
       "      <td>23</td>\n",
       "      <td>v1</td>\n",
       "    </tr>\n",
       "    <tr>\n",
       "      <th>17693</th>\n",
       "      <td>0.000827</td>\n",
       "      <td>0.003789</td>\n",
       "      <td>0.026325</td>\n",
       "      <td>0.000052</td>\n",
       "      <td>-0.000083</td>\n",
       "      <td>-0.000425</td>\n",
       "      <td>0.00</td>\n",
       "      <td>0.00</td>\n",
       "      <td>3.675</td>\n",
       "      <td>7.516</td>\n",
       "      <td>...</td>\n",
       "      <td>7.565</td>\n",
       "      <td>8.179</td>\n",
       "      <td>10.208</td>\n",
       "      <td>5.681</td>\n",
       "      <td>14.974</td>\n",
       "      <td>test</td>\n",
       "      <td>26</td>\n",
       "      <td>05</td>\n",
       "      <td>23</td>\n",
       "      <td>v1</td>\n",
       "    </tr>\n",
       "    <tr>\n",
       "      <th>17694</th>\n",
       "      <td>0.000827</td>\n",
       "      <td>0.003789</td>\n",
       "      <td>0.026325</td>\n",
       "      <td>0.000052</td>\n",
       "      <td>-0.000083</td>\n",
       "      <td>-0.000425</td>\n",
       "      <td>0.00</td>\n",
       "      <td>0.00</td>\n",
       "      <td>3.675</td>\n",
       "      <td>7.516</td>\n",
       "      <td>...</td>\n",
       "      <td>7.565</td>\n",
       "      <td>8.179</td>\n",
       "      <td>10.208</td>\n",
       "      <td>5.681</td>\n",
       "      <td>14.974</td>\n",
       "      <td>test</td>\n",
       "      <td>26</td>\n",
       "      <td>05</td>\n",
       "      <td>23</td>\n",
       "      <td>v1</td>\n",
       "    </tr>\n",
       "    <tr>\n",
       "      <th>...</th>\n",
       "      <td>...</td>\n",
       "      <td>...</td>\n",
       "      <td>...</td>\n",
       "      <td>...</td>\n",
       "      <td>...</td>\n",
       "      <td>...</td>\n",
       "      <td>...</td>\n",
       "      <td>...</td>\n",
       "      <td>...</td>\n",
       "      <td>...</td>\n",
       "      <td>...</td>\n",
       "      <td>...</td>\n",
       "      <td>...</td>\n",
       "      <td>...</td>\n",
       "      <td>...</td>\n",
       "      <td>...</td>\n",
       "      <td>...</td>\n",
       "      <td>...</td>\n",
       "      <td>...</td>\n",
       "      <td>...</td>\n",
       "      <td>...</td>\n",
       "    </tr>\n",
       "    <tr>\n",
       "      <th>20835</th>\n",
       "      <td>0.000048</td>\n",
       "      <td>0.017580</td>\n",
       "      <td>0.035686</td>\n",
       "      <td>0.000342</td>\n",
       "      <td>-0.000061</td>\n",
       "      <td>-0.000371</td>\n",
       "      <td>0.29</td>\n",
       "      <td>1.56</td>\n",
       "      <td>3.675</td>\n",
       "      <td>7.521</td>\n",
       "      <td>...</td>\n",
       "      <td>7.563</td>\n",
       "      <td>8.174</td>\n",
       "      <td>10.192</td>\n",
       "      <td>5.672</td>\n",
       "      <td>14.974</td>\n",
       "      <td>test</td>\n",
       "      <td>26</td>\n",
       "      <td>05</td>\n",
       "      <td>23</td>\n",
       "      <td>v1</td>\n",
       "    </tr>\n",
       "    <tr>\n",
       "      <th>20836</th>\n",
       "      <td>0.000048</td>\n",
       "      <td>0.017580</td>\n",
       "      <td>0.035686</td>\n",
       "      <td>0.000342</td>\n",
       "      <td>-0.000061</td>\n",
       "      <td>-0.000371</td>\n",
       "      <td>0.29</td>\n",
       "      <td>2.23</td>\n",
       "      <td>3.675</td>\n",
       "      <td>7.521</td>\n",
       "      <td>...</td>\n",
       "      <td>7.563</td>\n",
       "      <td>8.174</td>\n",
       "      <td>10.192</td>\n",
       "      <td>5.672</td>\n",
       "      <td>14.974</td>\n",
       "      <td>test</td>\n",
       "      <td>26</td>\n",
       "      <td>05</td>\n",
       "      <td>23</td>\n",
       "      <td>v1</td>\n",
       "    </tr>\n",
       "    <tr>\n",
       "      <th>20837</th>\n",
       "      <td>0.000048</td>\n",
       "      <td>0.017580</td>\n",
       "      <td>0.035686</td>\n",
       "      <td>0.000342</td>\n",
       "      <td>-0.000061</td>\n",
       "      <td>-0.000371</td>\n",
       "      <td>0.29</td>\n",
       "      <td>2.23</td>\n",
       "      <td>3.675</td>\n",
       "      <td>7.521</td>\n",
       "      <td>...</td>\n",
       "      <td>7.563</td>\n",
       "      <td>8.174</td>\n",
       "      <td>10.192</td>\n",
       "      <td>5.672</td>\n",
       "      <td>14.974</td>\n",
       "      <td>test</td>\n",
       "      <td>26</td>\n",
       "      <td>05</td>\n",
       "      <td>23</td>\n",
       "      <td>v1</td>\n",
       "    </tr>\n",
       "    <tr>\n",
       "      <th>20838</th>\n",
       "      <td>0.000048</td>\n",
       "      <td>0.017580</td>\n",
       "      <td>0.035686</td>\n",
       "      <td>0.000342</td>\n",
       "      <td>-0.000061</td>\n",
       "      <td>-0.000371</td>\n",
       "      <td>0.29</td>\n",
       "      <td>2.23</td>\n",
       "      <td>3.675</td>\n",
       "      <td>7.521</td>\n",
       "      <td>...</td>\n",
       "      <td>7.563</td>\n",
       "      <td>8.174</td>\n",
       "      <td>10.192</td>\n",
       "      <td>5.672</td>\n",
       "      <td>14.974</td>\n",
       "      <td>test</td>\n",
       "      <td>26</td>\n",
       "      <td>05</td>\n",
       "      <td>23</td>\n",
       "      <td>v1</td>\n",
       "    </tr>\n",
       "    <tr>\n",
       "      <th>20839</th>\n",
       "      <td>0.000048</td>\n",
       "      <td>0.017580</td>\n",
       "      <td>0.035686</td>\n",
       "      <td>0.000342</td>\n",
       "      <td>-0.000061</td>\n",
       "      <td>-0.000371</td>\n",
       "      <td>0.29</td>\n",
       "      <td>2.23</td>\n",
       "      <td>3.675</td>\n",
       "      <td>7.521</td>\n",
       "      <td>...</td>\n",
       "      <td>7.563</td>\n",
       "      <td>8.174</td>\n",
       "      <td>10.192</td>\n",
       "      <td>5.672</td>\n",
       "      <td>14.974</td>\n",
       "      <td>test</td>\n",
       "      <td>26</td>\n",
       "      <td>05</td>\n",
       "      <td>23</td>\n",
       "      <td>v1</td>\n",
       "    </tr>\n",
       "  </tbody>\n",
       "</table>\n",
       "<p>911 rows × 26 columns</p>\n",
       "</div>"
      ],
      "text/plain": [
       "        Force_X   Force_Y   Force_Z  Torque_X  Torque_Y  Torque_Z  \\\n",
       "17690  0.000827  0.003789  0.026325  0.000052 -0.000083 -0.000425   \n",
       "17691  0.000827  0.003789  0.026325  0.000052 -0.000083 -0.000425   \n",
       "17692  0.000827  0.003789  0.026325  0.000052 -0.000083 -0.000425   \n",
       "17693  0.000827  0.003789  0.026325  0.000052 -0.000083 -0.000425   \n",
       "17694  0.000827  0.003789  0.026325  0.000052 -0.000083 -0.000425   \n",
       "...         ...       ...       ...       ...       ...       ...   \n",
       "20835  0.000048  0.017580  0.035686  0.000342 -0.000061 -0.000371   \n",
       "20836  0.000048  0.017580  0.035686  0.000342 -0.000061 -0.000371   \n",
       "20837  0.000048  0.017580  0.035686  0.000342 -0.000061 -0.000371   \n",
       "20838  0.000048  0.017580  0.035686  0.000342 -0.000061 -0.000371   \n",
       "20839  0.000048  0.017580  0.035686  0.000342 -0.000061 -0.000371   \n",
       "\n",
       "       Sensor_P_1_1  Sensor_P_1_2  Sensor_P_2_1  Sensor_P_2_2  ...  \\\n",
       "17690          0.00          0.00         3.675         7.516  ...   \n",
       "17691          0.00          0.00         3.675         7.516  ...   \n",
       "17692          0.00          0.00         3.675         7.516  ...   \n",
       "17693          0.00          0.00         3.675         7.516  ...   \n",
       "17694          0.00          0.00         3.675         7.516  ...   \n",
       "...             ...           ...           ...           ...  ...   \n",
       "20835          0.29          1.56         3.675         7.521  ...   \n",
       "20836          0.29          2.23         3.675         7.521  ...   \n",
       "20837          0.29          2.23         3.675         7.521  ...   \n",
       "20838          0.29          2.23         3.675         7.521  ...   \n",
       "20839          0.29          2.23         3.675         7.521  ...   \n",
       "\n",
       "       Sensor_P_6_1  Sensor_P_6_2  Sensor_P_7_1  Sensor_P_7_2  Sensor_S  Par1  \\\n",
       "17690         7.565         8.179        10.208         5.681    14.974  test   \n",
       "17691         7.565         8.179        10.208         5.681    14.974  test   \n",
       "17692         7.565         8.179        10.208         5.681    14.974  test   \n",
       "17693         7.565         8.179        10.208         5.681    14.974  test   \n",
       "17694         7.565         8.179        10.208         5.681    14.974  test   \n",
       "...             ...           ...           ...           ...       ...   ...   \n",
       "20835         7.563         8.174        10.192         5.672    14.974  test   \n",
       "20836         7.563         8.174        10.192         5.672    14.974  test   \n",
       "20837         7.563         8.174        10.192         5.672    14.974  test   \n",
       "20838         7.563         8.174        10.192         5.672    14.974  test   \n",
       "20839         7.563         8.174        10.192         5.672    14.974  test   \n",
       "\n",
       "       Par2  Par3  Par4  Par5  \n",
       "17690    26    05    23    v1  \n",
       "17691    26    05    23    v1  \n",
       "17692    26    05    23    v1  \n",
       "17693    26    05    23    v1  \n",
       "17694    26    05    23    v1  \n",
       "...     ...   ...   ...   ...  \n",
       "20835    26    05    23    v1  \n",
       "20836    26    05    23    v1  \n",
       "20837    26    05    23    v1  \n",
       "20838    26    05    23    v1  \n",
       "20839    26    05    23    v1  \n",
       "\n",
       "[911 rows x 26 columns]"
      ]
     },
     "execution_count": 3,
     "metadata": {},
     "output_type": "execute_result"
    }
   ],
   "source": [
    "## Data filtering\n",
    "# https://builtin.com/data-science/pandas-filter\n",
    "Filtered_dataset=Total_dataset.query('Par5==\"v1\" and Force_X>0')\n",
    "Filtered_dataset\n"
   ]
  },
  {
   "cell_type": "markdown",
   "id": "42474ab8-94a5-4310-b77e-13243819e309",
   "metadata": {},
   "source": [
    "### 3-2 Combination of the data"
   ]
  },
  {
   "cell_type": "code",
   "execution_count": 1,
   "id": "4973fd3a-ad3c-4285-b638-a1a8ea5833d4",
   "metadata": {},
   "outputs": [
    {
     "ename": "NameError",
     "evalue": "name 'Columns' is not defined",
     "output_type": "error",
     "traceback": [
      "\u001b[1;31m---------------------------------------------------------------------------\u001b[0m",
      "\u001b[1;31mNameError\u001b[0m                                 Traceback (most recent call last)",
      "Cell \u001b[1;32mIn[1], line 1\u001b[0m\n\u001b[1;32m----> 1\u001b[0m Total_col\u001b[38;5;241m=\u001b[39m[\u001b[38;5;241m*\u001b[39m\u001b[43mColumns\u001b[49m,\u001b[38;5;241m*\u001b[39mNew_Columns]\n\u001b[0;32m      2\u001b[0m \u001b[38;5;28;01mfor\u001b[39;00m i \u001b[38;5;129;01min\u001b[39;00m \u001b[38;5;28mrange\u001b[39m(\u001b[38;5;28mlen\u001b[39m(Total_col)):\n\u001b[0;32m      3\u001b[0m     \u001b[38;5;28;01mif\u001b[39;00m i\u001b[38;5;241m==\u001b[39m\u001b[38;5;241m0\u001b[39m:\n",
      "\u001b[1;31mNameError\u001b[0m: name 'Columns' is not defined"
     ]
    }
   ],
   "source": [
    "Total_col=[*Columns,*New_Columns]\n",
    "for i in range(len(Total_col)):\n",
    "    if i==0:\n",
    "        print(f'{\"Total column\" :^120}')\n",
    "        print('')\n",
    "    print(f'{i:<} {Total_col[i] : <30}   ',end='')\n",
    "    if i%3 ==0 and i!=0:\n",
    "        print('')\n",
    "        \n",
    "\n",
    "Desired_combination_COL=[*Total_col[0:3],*Total_col[-9:-5]] ####################### chose the combination of the col\n",
    "print('')\n",
    "for i in range(len(Desired_combination_COL)):\n",
    "    if i==0:\n",
    "        print(f'{\"Desired_combination_COL\" :^120}')\n",
    "        print('')\n",
    "    print(f'{i:<} {Desired_combination_COL[i] : <30}   ',end='')\n",
    "    if i%3 ==0 and i!=0:\n",
    "        print('')\n",
    "\n",
    "\n",
    "Desired_combination_COL\n",
    "Combi_df=Filtered_dataset.filter(items=Desired_combination_COL)"
   ]
  },
  {
   "cell_type": "markdown",
   "id": "722020a9-f6d8-4186-9d94-63929e8f29de",
   "metadata": {},
   "source": [
    "### 3. Save the file into pickle format"
   ]
  },
  {
   "cell_type": "code",
   "execution_count": 5,
   "id": "28ca7c3f-1543-4765-ae69-5e9adf0880b1",
   "metadata": {},
   "outputs": [],
   "source": [
    "save_mode= True\n",
    "\n",
    "if save_mode== True:\n",
    "    Combi_df.to_pickle(\"./pickle/test_1.pkl\") "
   ]
  },
  {
   "cell_type": "markdown",
   "id": "63731dee-ee59-44f5-b5f5-6b9609b14804",
   "metadata": {
    "tags": []
   },
   "source": [
    "# 3.Start"
   ]
  },
  {
   "cell_type": "markdown",
   "id": "62f76ac4-bf8e-49c6-9ee2-ade3d8e6bb2c",
   "metadata": {
    "tags": []
   },
   "source": [
    "### 3-1. Data loading and preparation\n",
    "1) Read pickle\n",
    "2) Divide Input and output && Train and test set\n",
    "3) To Tensor\n",
    "4) Normalization\n",
    "5) Batch size"
   ]
  },
  {
   "cell_type": "code",
   "execution_count": 5,
   "id": "b3ebee90-cd49-4f8c-af8c-ab25c094095f",
   "metadata": {},
   "outputs": [
    {
     "ename": "NameError",
     "evalue": "name 'np' is not defined",
     "output_type": "error",
     "traceback": [
      "\u001b[1;31m---------------------------------------------------------------------------\u001b[0m",
      "\u001b[1;31mNameError\u001b[0m                                 Traceback (most recent call last)",
      "Cell \u001b[1;32mIn[5], line 16\u001b[0m\n\u001b[0;32m      9\u001b[0m device \u001b[38;5;241m=\u001b[39m \u001b[38;5;124m\"\u001b[39m\u001b[38;5;124mcuda\u001b[39m\u001b[38;5;124m\"\u001b[39m \u001b[38;5;28;01mif\u001b[39;00m torch\u001b[38;5;241m.\u001b[39mcuda\u001b[38;5;241m.\u001b[39mis_available() \u001b[38;5;28;01melse\u001b[39;00m \u001b[38;5;124m\"\u001b[39m\u001b[38;5;124mcpu\u001b[39m\u001b[38;5;124m\"\u001b[39m\n\u001b[0;32m     12\u001b[0m \u001b[38;5;66;03m# Hot encoding needed\u001b[39;00m\n\u001b[0;32m     13\u001b[0m \u001b[38;5;66;03m# Scailing!\u001b[39;00m\n\u001b[0;32m     14\u001b[0m \u001b[38;5;66;03m# Validation dataset?\u001b[39;00m\n\u001b[1;32m---> 16\u001b[0m Y\u001b[38;5;241m=\u001b[39m\u001b[43mnp\u001b[49m\u001b[38;5;241m.\u001b[39marray(Combi_df\u001b[38;5;241m.\u001b[39mfilter(items\u001b[38;5;241m=\u001b[39mDesired_combination_COL[\u001b[38;5;241m0\u001b[39m:\u001b[38;5;241m1\u001b[39m]))\n\u001b[0;32m     17\u001b[0m X\u001b[38;5;241m=\u001b[39mnp\u001b[38;5;241m.\u001b[39marray(Combi_df\u001b[38;5;241m.\u001b[39mfilter(items\u001b[38;5;241m=\u001b[39mDesired_combination_COL[\u001b[38;5;241m3\u001b[39m:]))\n\u001b[0;32m     19\u001b[0m \u001b[38;5;66;03m# Scaler\u001b[39;00m\n",
      "\u001b[1;31mNameError\u001b[0m: name 'np' is not defined"
     ]
    }
   ],
   "source": [
    "Combi_df = pd.read_pickle(\"./pickle/test_1.pkl\")  \n",
    "\n",
    "\n",
    "# Setup hyperparameters\n",
    "NUM_EPOCHS = 5\n",
    "BATCH_SIZE = 32\n",
    "HIDDEN_UNITS = 10\n",
    "LEARNING_RATE = 0.001\n",
    "device = \"cuda\" if torch.cuda.is_available() else \"cpu\"\n",
    "\n",
    "\n",
    "# Hot encoding needed\n",
    "# Scailing!\n",
    "# Validation dataset?\n",
    "\n",
    "Y=np.array(Combi_df.filter(items=Desired_combination_COL[0:1]))\n",
    "X=np.array(Combi_df.filter(items=Desired_combination_COL[3:]))\n",
    "\n",
    "# Scaler\n",
    "X_scaler = sklearn.preprocessing.MinMaxScaler()\n",
    "Y_scaler = sklearn.preprocessing.MinMaxScaler()\n",
    "\n",
    "X=torch.FloatTensor(X_scaler.fit_transform(X))\n",
    "Y=torch.FloatTensor(Y_scaler.fit_transform(Y))\n",
    "\n",
    "\n",
    "\n",
    "X_train, X_test, Y_train, Y_test = train_test_split(X, \n",
    "                                                    Y, \n",
    "                                                    test_size=0.2, # 20% test, 80% train\n",
    "                                                    random_state=42) # make the random split reproducible\n",
    "\n",
    "\n",
    "train_dataset=DataLoader(data_loader.Data(X_train,Y_train),batch_size=BATCH_SIZE)\n",
    "test_dataset=DataLoader(data_loader.Data(X_test,Y_test),batch_size=BATCH_SIZE)\n",
    "Input_dim=len(X_train[0])\n",
    "Output_dim=len(Y_train[0])\n",
    "\n",
    "print(f'{\"Input dim \":>20}{Input_dim}{\"||\":^22}{\"Output dim \":>20}{Output_dim}')\n",
    "print(f'Input Train: {len(X_train)},Test: {len(X_test)}   ||   Output Train: {len(Y_train)}, Test: {len(Y_test)}')"
   ]
  },
  {
   "cell_type": "markdown",
   "id": "deaa31a6-8617-44de-8a48-c135d23794de",
   "metadata": {
    "tags": []
   },
   "source": [
    "### 3-2. Set hypermeter\n",
    "1. Epochs\n",
    "2. Batch size\n",
    "3. Learning rate\n",
    "4. Device \n",
    "5. Activation function\n",
    "6. Loss function\n",
    "7. Optimizer"
   ]
  },
  {
   "cell_type": "code",
   "execution_count": 4,
   "id": "12c22e15-be49-4f93-95b7-a71d7916d133",
   "metadata": {},
   "outputs": [
    {
     "ename": "NameError",
     "evalue": "name 'Input_dim' is not defined",
     "output_type": "error",
     "traceback": [
      "\u001b[1;31m---------------------------------------------------------------------------\u001b[0m",
      "\u001b[1;31mNameError\u001b[0m                                 Traceback (most recent call last)",
      "Cell \u001b[1;32mIn[4], line 4\u001b[0m\n\u001b[0;32m      1\u001b[0m \u001b[38;5;66;03m# Model\u001b[39;00m\n\u001b[0;32m      3\u001b[0m model \u001b[38;5;241m=\u001b[39m model_builder\u001b[38;5;241m.\u001b[39mLSTMModel(\n\u001b[1;32m----> 4\u001b[0m     input_dim \u001b[38;5;241m=\u001b[39m \u001b[43mInput_dim\u001b[49m,\n\u001b[0;32m      5\u001b[0m     hidden_dim\u001b[38;5;241m=\u001b[39mHIDDEN_UNITS,\n\u001b[0;32m      6\u001b[0m     layer_dim\u001b[38;5;241m=\u001b[39m\u001b[38;5;241m2\u001b[39m,\n\u001b[0;32m      7\u001b[0m     output_dim\u001b[38;5;241m=\u001b[39mOutput_dim,\n\u001b[0;32m      8\u001b[0m     dropout_prob\u001b[38;5;241m=\u001b[39m\u001b[38;5;241m0.7\u001b[39m)\n\u001b[0;32m     11\u001b[0m \u001b[38;5;66;03m# Set loss and optimizer\u001b[39;00m\n\u001b[0;32m     12\u001b[0m loss_fn \u001b[38;5;241m=\u001b[39m torch\u001b[38;5;241m.\u001b[39mnn\u001b[38;5;241m.\u001b[39mMSELoss() \u001b[38;5;66;03m## change\u001b[39;00m\n",
      "\u001b[1;31mNameError\u001b[0m: name 'Input_dim' is not defined"
     ]
    }
   ],
   "source": [
    "\n",
    "# Model\n",
    "\n",
    "model = model_builder.LSTMModel(\n",
    "    input_dim = Input_dim,\n",
    "    hidden_dim=HIDDEN_UNITS,\n",
    "    layer_dim=2,\n",
    "    output_dim=Output_dim,\n",
    "    dropout_prob=0.7)\n",
    "\n",
    "\n",
    "# Set loss and optimizer\n",
    "loss_fn = torch.nn.MSELoss() ## change\n",
    "optimizer = torch.optim.Adam(model.parameters(), ## change\n",
    "                             lr=LEARNING_RATE)\n"
   ]
  },
  {
   "cell_type": "markdown",
   "id": "2ea742f3-2160-49f0-bb8d-b317d4b9ccdf",
   "metadata": {},
   "source": [
    "### 3-3. Model\n"
   ]
  },
  {
   "cell_type": "code",
   "execution_count": 11,
   "id": "b1f5ff68-c51c-4636-8b4b-529c89eb1e88",
   "metadata": {},
   "outputs": [
    {
     "data": {
      "application/vnd.jupyter.widget-view+json": {
       "model_id": "01a226490b9845f5814547a70b088d00",
       "version_major": 2,
       "version_minor": 0
      },
      "text/plain": [
       "  0%|          | 0/5 [00:00<?, ?it/s]"
      ]
     },
     "metadata": {},
     "output_type": "display_data"
    },
    {
     "name": "stdout",
     "output_type": "stream",
     "text": [
      "Epoch: 1 | train_loss: 0.0364 | train_acc: 0.1386 | test_loss: 0.0213 | test_acc: 0.2500\n",
      "Epoch: 2 | train_loss: 0.0362 | train_acc: 0.1232 | test_loss: 0.0210 | test_acc: 0.0677\n",
      "Epoch: 3 | train_loss: 0.0357 | train_acc: 0.1096 | test_loss: 0.0209 | test_acc: 0.0833\n",
      "Epoch: 4 | train_loss: 0.0352 | train_acc: 0.1300 | test_loss: 0.0209 | test_acc: 0.2552\n",
      "Epoch: 5 | train_loss: 0.0354 | train_acc: 0.1544 | test_loss: 0.0209 | test_acc: 0.3021\n",
      "Total training time: 0.099 seconds\n"
     ]
    },
    {
     "ename": "TypeError",
     "evalue": "can only concatenate str (not \"int\") to str",
     "output_type": "error",
     "traceback": [
      "\u001b[0;31m---------------------------------------------------------------------------\u001b[0m",
      "\u001b[0;31mTypeError\u001b[0m                                 Traceback (most recent call last)",
      "Cell \u001b[0;32mIn[11], line 12\u001b[0m\n\u001b[1;32m     10\u001b[0m end_time \u001b[38;5;241m=\u001b[39m timer()\n\u001b[1;32m     11\u001b[0m \u001b[38;5;28mprint\u001b[39m(\u001b[38;5;124mf\u001b[39m\u001b[38;5;124m\"\u001b[39m\u001b[38;5;124mTotal training time: \u001b[39m\u001b[38;5;132;01m{\u001b[39;00mend_time\u001b[38;5;241m-\u001b[39mstart_time\u001b[38;5;132;01m:\u001b[39;00m\u001b[38;5;124m.3f\u001b[39m\u001b[38;5;132;01m}\u001b[39;00m\u001b[38;5;124m seconds\u001b[39m\u001b[38;5;124m\"\u001b[39m)\n\u001b[0;32m---> 12\u001b[0m \u001b[43mutils\u001b[49m\u001b[38;5;241;43m.\u001b[39;49m\u001b[43mplot_loss_curves\u001b[49m\u001b[43m(\u001b[49m\u001b[43m[\u001b[49m\u001b[43mresults\u001b[49m\u001b[43m]\u001b[49m\u001b[43m)\u001b[49m\n",
      "File \u001b[0;32m~/janghun/External_force-main/utils.py:68\u001b[0m, in \u001b[0;36mplot_loss_curves\u001b[0;34m(results_bunch)\u001b[0m\n\u001b[1;32m     66\u001b[0m \u001b[38;5;66;03m# Plot loss\u001b[39;00m\n\u001b[1;32m     67\u001b[0m plt\u001b[38;5;241m.\u001b[39msubplot(\u001b[38;5;241m2\u001b[39m, \u001b[38;5;241m2\u001b[39m, \u001b[38;5;241m1\u001b[39m)\n\u001b[0;32m---> 68\u001b[0m plt\u001b[38;5;241m.\u001b[39mplot(epochs, loss, label\u001b[38;5;241m=\u001b[39m\u001b[38;5;124;43m'\u001b[39;49m\u001b[38;5;124;43mtrain_loss_\u001b[39;49m\u001b[38;5;124;43m'\u001b[39;49m\u001b[38;5;241;43m+\u001b[39;49m\u001b[43mi\u001b[49m)\n\u001b[1;32m     69\u001b[0m plt\u001b[38;5;241m.\u001b[39mhold(\u001b[38;5;28;01mTrue\u001b[39;00m)\n\u001b[1;32m     70\u001b[0m \u001b[38;5;28;01mif\u001b[39;00m i\u001b[38;5;241m%\u001b[39m\u001b[38;5;241m2\u001b[39m \u001b[38;5;241m!=\u001b[39m\u001b[38;5;241m0\u001b[39m \u001b[38;5;129;01mor\u001b[39;00m i\u001b[38;5;241m==\u001b[39m\u001b[38;5;241m0\u001b[39m:\n",
      "\u001b[0;31mTypeError\u001b[0m: can only concatenate str (not \"int\") to str"
     ]
    },
    {
     "data": {
      "image/png": "[encoded data removed]",
      "text/plain": [
       "<Figure size 1500x700 with 1 Axes>"
      ]
     },
     "metadata": {},
     "output_type": "display_data"
    }
   ],
   "source": [
    "\n",
    "#torchinfo.summary(model,(5,5,5))\n",
    "start_time = timer()\n",
    "results=engine.train(model=model,\n",
    "             train_dataloader=train_dataset,\n",
    "             test_dataloader=test_dataset,\n",
    "             loss_fn=loss_fn,\n",
    "             optimizer=optimizer,\n",
    "             epochs=NUM_EPOCHS,\n",
    "             device=device)\n",
    "end_time = timer()\n",
    "print(f\"Total training time: {end_time-start_time:.3f} seconds\")\n",
    "utils.plot_loss_curves([results])"
   ]
  },
  {
   "cell_type": "markdown",
   "id": "eb71e1ce-8e4d-43e9-a3eb-7b9d5cb7d9ba",
   "metadata": {},
   "source": [
    "### 3-4 Compare the results and save"
   ]
  },
  {
   "cell_type": "code",
   "execution_count": 10,
   "id": "5fc31c89-2256-4a59-b9e7-8e8aa5156d30",
   "metadata": {},
   "outputs": [
    {
     "data": {
      "text/plain": [
       "{'train_loss': [0.0555590341353546,\n",
       "  0.0453359468475632,\n",
       "  0.04060288804137836,\n",
       "  0.03824355520065064,\n",
       "  0.03727536850973316],\n",
       " 'train_acc': [0.3645833333333333,\n",
       "  0.2821557971014493,\n",
       "  0.19972826086956522,\n",
       "  0.1480978260869565,\n",
       "  0.14673913043478262],\n",
       " 'test_loss': [0.033040914529313646,\n",
       "  0.026564101067682106,\n",
       "  0.023728286769861977,\n",
       "  0.022340329946018755,\n",
       "  0.021661792416125536],\n",
       " 'test_acc': [0.5, 0.5, 0.4427083333333333, 0.23958333333333334, 0.28125]}"
      ]
     },
     "execution_count": 10,
     "metadata": {},
     "output_type": "execute_result"
    }
   ],
   "source": [
    "\n",
    "results\n"
   ]
  },
  {
   "cell_type": "code",
   "execution_count": null,
   "id": "c61801e3",
   "metadata": {},
   "outputs": [],
   "source": []
  }
 ],
 "metadata": {
  "kernelspec": {
   "display_name": "Python 3 (ipykernel)",
   "language": "python",
   "name": "python3"
  },
  "language_info": {
   "codemirror_mode": {
    "name": "ipython",
    "version": 3
   },
   "file_extension": ".py",
   "mimetype": "text/x-python",
   "name": "python",
   "nbconvert_exporter": "python",
   "pygments_lexer": "ipython3",
   "version": "3.9.0"
  }
 },
 "nbformat": 4,
 "nbformat_minor": 5
}
