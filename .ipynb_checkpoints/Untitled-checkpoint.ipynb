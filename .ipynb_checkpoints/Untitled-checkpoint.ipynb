{
 "cells": [
  {
   "cell_type": "markdown",
   "id": "ad63d2e9-274c-46e8-bb60-b95644f3e625",
   "metadata": {},
   "source": [
    "# 1. library"
   ]
  },
  {
   "cell_type": "code",
   "execution_count": 17,
   "id": "64ee2de7-4793-477b-a1f3-b8a6bc1d13e7",
   "metadata": {},
   "outputs": [],
   "source": []
  },
  {
   "cell_type": "code",
   "execution_count": 14,
   "id": "0720e2ed-1205-4709-8f44-9ef3ff186504",
   "metadata": {},
   "outputs": [],
   "source": [
    "import os\n",
    "import torch\n",
    "import data_loader, engine, model_builder\n",
    "from data_loader import data_loader\n",
    "from torchvision import transforms"
   ]
  },
  {
   "cell_type": "code",
   "execution_count": 19,
   "id": "be578056-ad13-4a9e-9a1d-8489726d411b",
   "metadata": {},
   "outputs": [
    {
     "name": "stdout",
     "output_type": "stream",
     "text": [
      "1st Folder name :  P0.7_L_cen_1\n",
      "Contents in the folder : ['ANALOGUE.csv', 'Force.csv', 'TCP.csv'] \n",
      "\n",
      "\n",
      "1 Parameters ['P0.7' 'P1.4' 'P2.1'] \n",
      "\n",
      "2 Parameters ['L' 'M' 's'] \n",
      "\n",
      "3 Parameters ['cen'] \n",
      "\n",
      "4 Parameters ['1' '2' '3'] \n",
      "\n",
      "[['P0.7', 'L', 'cen', '1'], ['P0.7', 'M', 'cen', '1'], ['P1.4', 'L', 'cen', '1'], ['P1.4', 'M', 'cen', '1']]\n",
      "['./csv_files/P0.7_L_cen_1', './csv_files/P0.7_M_cen_1', './csv_files/P1.4_L_cen_1', './csv_files/P1.4_M_cen_1']\n"
     ]
    },
    {
     "ename": "NameError",
     "evalue": "name 'Columns' is not defined",
     "output_type": "error",
     "traceback": [
      "\u001b[1;31m---------------------------------------------------------------------------\u001b[0m",
      "\u001b[1;31mNameError\u001b[0m                                 Traceback (most recent call last)",
      "Cell \u001b[1;32mIn[19], line 16\u001b[0m\n\u001b[0;32m     14\u001b[0m \u001b[38;5;28mprint\u001b[39m(A\u001b[38;5;241m.\u001b[39mSelected_Param)\n\u001b[0;32m     15\u001b[0m \u001b[38;5;28mprint\u001b[39m(list_file)\n\u001b[1;32m---> 16\u001b[0m Total_dataset\u001b[38;5;241m=\u001b[39m\u001b[43mA\u001b[49m\u001b[38;5;241;43m.\u001b[39;49m\u001b[43mread_Data_pandas\u001b[49m\u001b[43m(\u001b[49m\u001b[43mColumns\u001b[49m\u001b[43m,\u001b[49m\u001b[43mNew_Columns\u001b[49m\u001b[43m)\u001b[49m\n\u001b[0;32m     17\u001b[0m Total_dataset\u001b[38;5;241m.\u001b[39mquery(\u001b[38;5;124m'\u001b[39m\u001b[38;5;124mPressure==\u001b[39m\u001b[38;5;124m\"\u001b[39m\u001b[38;5;124mP0.7\u001b[39m\u001b[38;5;124m\"\u001b[39m\u001b[38;5;124m'\u001b[39m)\n",
      "File \u001b[1;32m~\\Fraunhofer\\Machine_learning\\data_loader.py:94\u001b[0m, in \u001b[0;36mdata_loader.read_Data_pandas\u001b[1;34m(self, Colums, New_Columns)\u001b[0m\n\u001b[0;32m     92\u001b[0m \u001b[38;5;28;01mwith\u001b[39;00m \u001b[38;5;28mopen\u001b[39m(\u001b[38;5;124m'\u001b[39m\u001b[38;5;124mvectorset\u001b[39m\u001b[38;5;124m'\u001b[39m, \u001b[38;5;124m'\u001b[39m\u001b[38;5;124mrb\u001b[39m\u001b[38;5;124m'\u001b[39m) \u001b[38;5;28;01mas\u001b[39;00m f:\n\u001b[0;32m     93\u001b[0m     data_set \u001b[38;5;241m=\u001b[39m pickle\u001b[38;5;241m.\u001b[39mload(f)\n\u001b[1;32m---> 94\u001b[0m df \u001b[38;5;241m=\u001b[39m pd\u001b[38;5;241m.\u001b[39mDataFrame(data_set, columns\u001b[38;5;241m=\u001b[39m\u001b[43mColumns\u001b[49m)\n\u001b[0;32m     97\u001b[0m \u001b[38;5;66;03m###################3## Until this length####################3\u001b[39;00m\n\u001b[0;32m     98\u001b[0m \u001b[38;5;28;01mfor\u001b[39;00m i \u001b[38;5;129;01min\u001b[39;00m \u001b[38;5;28mrange\u001b[39m(\u001b[38;5;28mlen\u001b[39m(New_Columns)):\n",
      "\u001b[1;31mNameError\u001b[0m: name 'Columns' is not defined"
     ]
    }
   ],
   "source": [
    "path='./csv_files'\n",
    "Desired_param=[[0,1],[0,1],[0],[0]]\n",
    "A=data_loader(path,Desired_param)\n",
    "A.file_searching(path)\n",
    "list_file=A.desired_file_path(Desired_param)\n",
    "Columns=['Force_X','Force_Y','Force_Z','Torque_X','Torque_Y','Torque_Z',\n",
    "         'Sensor_P_1_1','Sensor_P_1_2','Sensor_P_2_1','Sensor_P_2_2',\n",
    "         'Sensor_P_3_1','Sensor_P_3_2','Sensor_P_4_1','Sensor_P_4_2',\n",
    "         'Sensor_P_5_1','Sensor_P_5_2','Sensor_P_6_1','Sensor_P_6_2',\n",
    "         'Sensor_P_7_1','Sensor_P_7_2',\n",
    "         'Sensor_S']\n",
    "New_Columns=['Pressure','Object_size','Finger_distance','Trial']\n",
    "\n",
    "print(A.Selected_Param)\n",
    "print(list_file)\n",
    "Total_dataset=A.read_Data_pandas(Columns,New_Columns)\n",
    "Total_dataset.query('Pressure==\"P0.7\"')"
   ]
  },
  {
   "cell_type": "markdown",
   "id": "ce901f3f-22ed-44b0-98f4-347ed5894c18",
   "metadata": {},
   "source": [
    "# 2. Hyper parameter"
   ]
  },
  {
   "cell_type": "code",
   "execution_count": 1,
   "id": "b307fda2-23a9-46ef-b385-8c1d961767d0",
   "metadata": {},
   "outputs": [],
   "source": [
    "NUM_EPOCHS = 5\n",
    "BATCH_SIZE = 32\n",
    "HIDDEN_UNITS = 10\n",
    "LEARNING_RATE = 0.001"
   ]
  },
  {
   "cell_type": "markdown",
   "id": "06a9a53d-24f0-4a35-a29a-a35952ec6e9f",
   "metadata": {},
   "source": []
  },
  {
   "cell_type": "code",
   "execution_count": null,
   "id": "62f7b603-a19c-4618-8d8f-56a3615d9658",
   "metadata": {},
   "outputs": [],
   "source": [
    "\n",
    "\n",
    "# Setup hyperparameters\n",
    "NUM_EPOCHS = 5\n",
    "BATCH_SIZE = 32\n",
    "HIDDEN_UNITS = 10\n",
    "LEARNING_RATE = 0.001\n",
    "\n",
    "# Setup directories\n",
    "train_dir = \"data/pizza_steak_sushi/train\"\n",
    "test_dir = \"data/pizza_steak_sushi/test\"\n",
    "\n",
    "# Setup target device\n",
    "device = \"cuda\" if torch.cuda.is_available() else \"cpu\"\n",
    "\n",
    "# Create transforms\n",
    "data_transform = transforms.Compose([\n",
    "  transforms.Resize((64, 64)),\n",
    "  transforms.ToTensor()\n",
    "])\n",
    "\n",
    "# Create DataLoaders with help from data_setup.py\n",
    "train_dataloader, test_dataloader, class_names = data_setup.create_dataloaders(\n",
    "    train_dir=train_dir,\n",
    "    test_dir=test_dir,\n",
    "    transform=data_transform,\n",
    "    batch_size=BATCH_SIZE\n",
    ")\n",
    "\n",
    "# Create model with help from model_builder.py\n",
    "model = model_builder.TinyVGG(\n",
    "    input_shape=3,\n",
    "    hidden_units=HIDDEN_UNITS,\n",
    "    output_shape=len(class_names)\n",
    ").to(device)\n",
    "\n",
    "# Set loss and optimizer\n",
    "loss_fn = torch.nn.CrossEntropyLoss()\n",
    "optimizer = torch.optim.Adam(model.parameters(),\n",
    "                             lr=LEARNING_RATE)\n",
    "\n",
    "# Start training with help from engine.py\n",
    "engine.train(model=model,\n",
    "             train_dataloader=train_dataloader,\n",
    "             test_dataloader=test_dataloader,\n",
    "             loss_fn=loss_fn,\n",
    "             optimizer=optimizer,\n",
    "             epochs=NUM_EPOCHS,\n",
    "             device=device)\n",
    "\n",
    "# Save the model with help from utils.py\n",
    "utils.save_model(model=model,\n",
    "                 target_dir=\"models\",\n",
    "                 model_name=\"05_going_modular_script_mode_tinyvgg_model.pth\")"
   ]
  }
 ],
 "metadata": {
  "kernelspec": {
   "display_name": "Python 3 (ipykernel)",
   "language": "python",
   "name": "python3"
  },
  "language_info": {
   "codemirror_mode": {
    "name": "ipython",
    "version": 3
   },
   "file_extension": ".py",
   "mimetype": "text/x-python",
   "name": "python",
   "nbconvert_exporter": "python",
   "pygments_lexer": "ipython3",
   "version": "3.9.0"
  }
 },
 "nbformat": 4,
 "nbformat_minor": 5
}
