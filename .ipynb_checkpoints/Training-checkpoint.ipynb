{
 "cells": [
  {
   "cell_type": "code",
   "execution_count": 93,
   "id": "3b6bbab2-34dd-4e89-908c-2d6ce1924a8b",
   "metadata": {},
   "outputs": [
    {
     "ename": "SyntaxError",
     "evalue": "invalid syntax (3595100964.py, line 1)",
     "output_type": "error",
     "traceback": [
      "\u001b[1;36m  Cell \u001b[1;32mIn[93], line 1\u001b[1;36m\u001b[0m\n\u001b[1;33m    jupyter nbconvert --to script ho.ipynb\u001b[0m\n\u001b[1;37m            ^\u001b[0m\n\u001b[1;31mSyntaxError\u001b[0m\u001b[1;31m:\u001b[0m invalid syntax\n"
     ]
    }
   ],
   "source": [
    "jupyter nbconvert --to script ho.ipynb "
   ]
  },
  {
   "cell_type": "code",
   "execution_count": 89,
   "id": "6f0a0fb8-9fae-4de1-98d3-6f79e53cf056",
   "metadata": {},
   "outputs": [
    {
     "name": "stdout",
     "output_type": "stream",
     "text": [
      "/\n",
      "├── Training.ipynb\n",
      "└── vectorset\n"
     ]
    }
   ],
   "source": [
    "# Importing Libraries\n",
    "from directory_tree import display_tree\n",
    "\n",
    "# Main Method\n",
    "if __name__ == '__main__':\n",
    "    display_tree('./')"
   ]
  },
  {
   "cell_type": "code",
   "execution_count": 86,
   "id": "8a3fb8c1-d3a6-4c94-9583-444e2ba5b71f",
   "metadata": {},
   "outputs": [
    {
     "name": "stdout",
     "output_type": "stream",
     "text": [
      "Collecting directory_tree\n",
      "  Downloading directory_tree-0.0.4-py3-none-any.whl (17 kB)\n",
      "Installing collected packages: directory_tree\n",
      "Successfully installed directory_tree-0.0.4\n"
     ]
    }
   ],
   "source": [
    "!pip install directory_tree"
   ]
  },
  {
   "cell_type": "code",
   "execution_count": 7,
   "id": "13cb1db6-7d56-45b4-85bd-e387a152acf8",
   "metadata": {},
   "outputs": [],
   "source": [
    "import os\n",
    "import pickle\n",
    "with open('vectorset', 'rb') as f:\n",
    "    data_set = pickle.load(f)"
   ]
  },
  {
   "cell_type": "markdown",
   "id": "80b0dc8a-fe37-400c-9ac2-ee1be76ca788",
   "metadata": {},
   "source": [
    "## 1. Prepare data\n",
    "- splite rate(80%,20%) and type(train, test, val)\n",
    "- normalization\n"
   ]
  },
  {
   "cell_type": "code",
   "execution_count": 79,
   "id": "13b09d80-a289-4f90-9d5b-b6e873dda801",
   "metadata": {},
   "outputs": [
    {
     "name": "stdout",
     "output_type": "stream",
     "text": [
      "Input Train: 4125,Test: 1032   ||   Output Train: 4125, Test: 1032\n"
     ]
    }
   ],
   "source": [
    "import torch\n",
    "from torch.utils.data.dataset import Dataset\n",
    "from sklearn.model_selection import train_test_split\n",
    "import numpy as np\n",
    "import pandas as pd\n",
    "import random\n",
    "random.seed(42)\n",
    "\n",
    "Y=[]#Output\n",
    "X=[]#input\n",
    "for i in range(len(data_set)):\n",
    "    Y.append(data_set[i][:3]) #> fx,fy,fz\n",
    "    X.append(data_set[i][6:])\n",
    "    \n",
    "X=torch.FloatTensor(X)\n",
    "Y=torch.FloatTensor(Y)\n",
    "\n",
    "\n",
    "\n",
    "X_train, X_test, Y_train, Y_test = train_test_split(X, \n",
    "                                                    Y, \n",
    "                                                    test_size=0.2, # 20% test, 80% train\n",
    "                                                    random_state=42) # make the random split reproducible\n",
    "\n",
    "\n",
    "print(f'Input Train: {len(X_train)},Test: {len(X_test)}   ||   Output Train: {len(y_train)}, Test: {len(y_test)}')\n"
   ]
  },
  {
   "cell_type": "markdown",
   "id": "dfdb55e2-049c-4ecc-af9a-e7637faaf2ea",
   "metadata": {},
   "source": [
    "## Building model\n",
    "- Set hyper parameter : epochs and batch size\n",
    "- Set the operation space : cuda or other"
   ]
  },
  {
   "cell_type": "code",
   "execution_count": 92,
   "id": "4ea9297e-f65c-4c1b-bc3e-9695c20520d2",
   "metadata": {},
   "outputs": [
    {
     "name": "stderr",
     "output_type": "stream",
     "text": [
      "UsageError: %%writefile is a cell magic, but the cell body is empty.\n"
     ]
    }
   ],
   "source": [
    "%%writefile going_modular/model_builder.py"
   ]
  },
  {
   "cell_type": "code",
   "execution_count": 83,
   "id": "31b18a4b-2181-48ea-9cbe-4f0ce14208b7",
   "metadata": {},
   "outputs": [],
   "source": [
    "# training hyper parameters\n",
    "from torch import nn\n",
    "device = \"cuda\" if torch.cuda.is_available() else \"cpu\"\n",
    "device\n",
    "n_epochs= 100\n",
    "batch_size=10\n",
    "batch_start=torch.arange(0,len(X_train),batch_size)\n",
    "best_mse=np.inf\n",
    "best_weights=None\n",
    "history=[]"
   ]
  },
  {
   "cell_type": "code",
   "execution_count": 82,
   "id": "28fd185d-de1b-477f-9708-c9cf0c279b4a",
   "metadata": {},
   "outputs": [
    {
     "data": {
      "text/plain": [
       "15"
      ]
     },
     "execution_count": 82,
     "metadata": {},
     "output_type": "execute_result"
    }
   ],
   "source": [
    "# Training loop\n",
    "\n",
    "for epoch in range(n_epochs):\n",
    "    "
   ]
  },
  {
   "cell_type": "code",
   "execution_count": null,
   "id": "b3ad80a7-5bee-4ed4-8442-059a20544485",
   "metadata": {},
   "outputs": [],
   "source": []
  }
 ],
 "metadata": {
  "kernelspec": {
   "display_name": "Python 3 (ipykernel)",
   "language": "python",
   "name": "python3"
  },
  "language_info": {
   "codemirror_mode": {
    "name": "ipython",
    "version": 3
   },
   "file_extension": ".py",
   "mimetype": "text/x-python",
   "name": "python",
   "nbconvert_exporter": "python",
   "pygments_lexer": "ipython3",
   "version": "3.9.0"
  }
 },
 "nbformat": 4,
 "nbformat_minor": 5
}
